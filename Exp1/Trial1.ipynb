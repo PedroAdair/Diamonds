{
 "cells": [
  {
   "cell_type": "code",
   "execution_count": 150,
   "metadata": {},
   "outputs": [],
   "source": [
    "import pandas as pd\n",
    "import numpy as np\n",
    "import matplotlib.pyplot as plt\n",
    "import seaborn as sns\n",
    "\n",
    "from sklearn.cluster import KMeans\n",
    "from sklearn.preprocessing import StandardScaler\n",
    "from sklearn import metrics\n",
    "#from sklearn.mixture import GaussianMixture"
   ]
  },
  {
   "cell_type": "markdown",
   "metadata": {},
   "source": [
    "Leer los datos del primer dataframe"
   ]
  },
  {
   "cell_type": "code",
   "execution_count": 235,
   "metadata": {},
   "outputs": [
    {
     "data": {
      "text/html": [
       "<div>\n",
       "<style scoped>\n",
       "    .dataframe tbody tr th:only-of-type {\n",
       "        vertical-align: middle;\n",
       "    }\n",
       "\n",
       "    .dataframe tbody tr th {\n",
       "        vertical-align: top;\n",
       "    }\n",
       "\n",
       "    .dataframe thead th {\n",
       "        text-align: right;\n",
       "    }\n",
       "</style>\n",
       "<table border=\"1\" class=\"dataframe\">\n",
       "  <thead>\n",
       "    <tr style=\"text-align: right;\">\n",
       "      <th></th>\n",
       "      <th>carat</th>\n",
       "      <th>cut</th>\n",
       "      <th>color</th>\n",
       "      <th>clarity</th>\n",
       "      <th>depth</th>\n",
       "      <th>table</th>\n",
       "      <th>price</th>\n",
       "      <th>x</th>\n",
       "      <th>y</th>\n",
       "      <th>z</th>\n",
       "    </tr>\n",
       "  </thead>\n",
       "  <tbody>\n",
       "    <tr>\n",
       "      <th>0</th>\n",
       "      <td>0.23</td>\n",
       "      <td>Ideal</td>\n",
       "      <td>E</td>\n",
       "      <td>SI2</td>\n",
       "      <td>61.5</td>\n",
       "      <td>55.0</td>\n",
       "      <td>326</td>\n",
       "      <td>3.95</td>\n",
       "      <td>3.98</td>\n",
       "      <td>2.43</td>\n",
       "    </tr>\n",
       "    <tr>\n",
       "      <th>1</th>\n",
       "      <td>0.21</td>\n",
       "      <td>Premium</td>\n",
       "      <td>E</td>\n",
       "      <td>SI1</td>\n",
       "      <td>59.8</td>\n",
       "      <td>61.0</td>\n",
       "      <td>326</td>\n",
       "      <td>3.89</td>\n",
       "      <td>3.84</td>\n",
       "      <td>2.31</td>\n",
       "    </tr>\n",
       "    <tr>\n",
       "      <th>2</th>\n",
       "      <td>0.23</td>\n",
       "      <td>Good</td>\n",
       "      <td>E</td>\n",
       "      <td>VS1</td>\n",
       "      <td>56.9</td>\n",
       "      <td>65.0</td>\n",
       "      <td>327</td>\n",
       "      <td>4.05</td>\n",
       "      <td>4.07</td>\n",
       "      <td>2.31</td>\n",
       "    </tr>\n",
       "    <tr>\n",
       "      <th>3</th>\n",
       "      <td>0.29</td>\n",
       "      <td>Premium</td>\n",
       "      <td>I</td>\n",
       "      <td>VS2</td>\n",
       "      <td>62.4</td>\n",
       "      <td>58.0</td>\n",
       "      <td>334</td>\n",
       "      <td>4.20</td>\n",
       "      <td>4.23</td>\n",
       "      <td>2.63</td>\n",
       "    </tr>\n",
       "    <tr>\n",
       "      <th>4</th>\n",
       "      <td>0.31</td>\n",
       "      <td>Good</td>\n",
       "      <td>J</td>\n",
       "      <td>SI2</td>\n",
       "      <td>63.3</td>\n",
       "      <td>58.0</td>\n",
       "      <td>335</td>\n",
       "      <td>4.34</td>\n",
       "      <td>4.35</td>\n",
       "      <td>2.75</td>\n",
       "    </tr>\n",
       "  </tbody>\n",
       "</table>\n",
       "</div>"
      ],
      "text/plain": [
       "   carat      cut color clarity  depth  table  price     x     y     z\n",
       "0   0.23    Ideal     E     SI2   61.5   55.0    326  3.95  3.98  2.43\n",
       "1   0.21  Premium     E     SI1   59.8   61.0    326  3.89  3.84  2.31\n",
       "2   0.23     Good     E     VS1   56.9   65.0    327  4.05  4.07  2.31\n",
       "3   0.29  Premium     I     VS2   62.4   58.0    334  4.20  4.23  2.63\n",
       "4   0.31     Good     J     SI2   63.3   58.0    335  4.34  4.35  2.75"
      ]
     },
     "execution_count": 235,
     "metadata": {},
     "output_type": "execute_result"
    }
   ],
   "source": [
    "data = pd.read_csv(\"diamonds.csv\", index_col=0)\n",
    "data.head()"
   ]
  },
  {
   "cell_type": "markdown",
   "metadata": {},
   "source": [
    "¿Cuantos registros tengo en total?"
   ]
  },
  {
   "cell_type": "code",
   "execution_count": 152,
   "metadata": {},
   "outputs": [
    {
     "data": {
      "text/plain": [
       "53930"
      ]
     },
     "execution_count": 152,
     "metadata": {},
     "output_type": "execute_result"
    }
   ],
   "source": [
    "data.shape[0]"
   ]
  },
  {
   "cell_type": "markdown",
   "metadata": {},
   "source": [
    "¿Que tipo de valores contiene cada columna?"
   ]
  },
  {
   "cell_type": "code",
   "execution_count": 153,
   "metadata": {},
   "outputs": [
    {
     "name": "stdout",
     "output_type": "stream",
     "text": [
      "<class 'pandas.core.frame.DataFrame'>\n",
      "Index: 53930 entries, 0 to 53929\n",
      "Data columns (total 10 columns):\n",
      " #   Column   Non-Null Count  Dtype  \n",
      "---  ------   --------------  -----  \n",
      " 0   carat    53930 non-null  float64\n",
      " 1   cut      53930 non-null  object \n",
      " 2   color    53930 non-null  object \n",
      " 3   clarity  53930 non-null  object \n",
      " 4   depth    50968 non-null  float64\n",
      " 5   table    53930 non-null  float64\n",
      " 6   price    53930 non-null  int64  \n",
      " 7   x        52840 non-null  float64\n",
      " 8   y        53345 non-null  float64\n",
      " 9   z        53930 non-null  float64\n",
      "dtypes: float64(6), int64(1), object(3)\n",
      "memory usage: 4.5+ MB\n"
     ]
    }
   ],
   "source": [
    "data.info()\n",
    "#respuesta, tenemos valores del tipo float64(6), int64(1), object(3)*(string)"
   ]
  },
  {
   "cell_type": "markdown",
   "metadata": {},
   "source": [
    "## Variables Cuantitativas"
   ]
  },
  {
   "cell_type": "markdown",
   "metadata": {},
   "source": [
    "### *cut*"
   ]
  },
  {
   "cell_type": "markdown",
   "metadata": {},
   "source": [
    "¿Que valores existen en *cut*?"
   ]
  },
  {
   "cell_type": "code",
   "execution_count": 154,
   "metadata": {},
   "outputs": [
    {
     "data": {
      "text/plain": [
       "array(['Ideal', 'Premium', 'Good', 'Very Good', 'Fair', 'Very Goo!d',\n",
       "       \"P*'remium\", 'I#deal', '#Very Good', 'P?remium', \"*'Ideal\",\n",
       "       '!Good', 'Pre!mium', 'Pr?emium', 'Very Go#od', 'Ide&al', 'Ide!al',\n",
       "       'Id!eal', '&Premium', 'Go?od', 'G#ood', \"Very *'Good\", \"Ide*'al\",\n",
       "       'V&ery Good', '&Ideal', 'Very G#ood'], dtype=object)"
      ]
     },
     "execution_count": 154,
     "metadata": {},
     "output_type": "execute_result"
    }
   ],
   "source": [
    "data[\"cut\"].unique()"
   ]
  },
  {
   "cell_type": "markdown",
   "metadata": {},
   "source": [
    "Existen varios errores de escritura sobre la calidad del corte, entonces debemos estandarizar dichas variables"
   ]
  },
  {
   "cell_type": "code",
   "execution_count": 155,
   "metadata": {},
   "outputs": [],
   "source": [
    "Quality = {\"Premium\":   set([\"Premium\",\"P*remium\",\"Pr?emium\",\"P?remium\", \"Pre!mium\", \"&Premium\", \"P*'remium\"]),\n",
    "           \"Very Good\": set([\"Very Good\", \"Very Goo!d\", \"Very *'Good\", \"V&ery Good\", \"Very G#ood\", \"#Very Good\", \"Very Go#od\"]),\n",
    "           \"Good\":      set([\"Good\", \"!Good\", \"Go?od\", \"G#ood\"]),\n",
    "           \"Ideal\":     set([\"&Ideal\", \"Ide*'al\", \"Ide&al\",\"I#deal\", \"Ideal\", \"I#deal\", \"Id!eal\", \"*'Ideal\", \"Ide!al\"]),\n",
    "           \"Fair\":      set([\"Fair\"])}\n",
    "\n",
    "map_qty = lambda x: next((k for k, v in Quality.items() if x in v), x)\n",
    "data[\"Cut\"] = data['cut'].apply(map_qty)"
   ]
  },
  {
   "cell_type": "markdown",
   "metadata": {},
   "source": [
    "Visualizar la distribucion por Calidad de corte"
   ]
  },
  {
   "cell_type": "code",
   "execution_count": 156,
   "metadata": {},
   "outputs": [
    {
     "data": {
      "text/plain": [
       "<Axes: >"
      ]
     },
     "execution_count": 156,
     "metadata": {},
     "output_type": "execute_result"
    },
    {
     "data": {
      "image/png": "[encoded data removed]",
      "text/plain": [
       "<Figure size 640x480 with 1 Axes>"
      ]
     },
     "metadata": {},
     "output_type": "display_data"
    }
   ],
   "source": [
    "#data[\"Cut\"].unique() #verificar que ya no falta un error\n",
    "data[\"Cut\"].hist()"
   ]
  },
  {
   "cell_type": "markdown",
   "metadata": {},
   "source": [
    "### *color*"
   ]
  },
  {
   "cell_type": "code",
   "execution_count": 157,
   "metadata": {},
   "outputs": [
    {
     "data": {
      "text/plain": [
       "array(['E', 'I', 'J', 'H', 'F', 'G', 'D', \"*'E\", '#F', '&G', '!H', '?J',\n",
       "       '#D', '&I', '!I', '?G', '#H', '?H', '?E', \"*'F\", '!E', '&F', '#G',\n",
       "       \"*'I\", '!F', '&E'], dtype=object)"
      ]
     },
     "execution_count": 157,
     "metadata": {},
     "output_type": "execute_result"
    }
   ],
   "source": [
    "data[\"color\"].unique()"
   ]
  },
  {
   "cell_type": "markdown",
   "metadata": {},
   "source": [
    "Igual que en el anterior, notamos que existe ruido en la informacion de entrada"
   ]
  },
  {
   "cell_type": "code",
   "execution_count": 158,
   "metadata": {},
   "outputs": [],
   "source": [
    "Color = {\"D\": set([\"D\", \"#D\"]),\n",
    "         \"E\": set([\"E\",\"*'E\", \"?E\", \"!E\", \"&E\"]),\n",
    "         \"F\": set([\"F\",\"#F\",\"*'F\", \"&F\", \"!F\"]),\n",
    "         \"G\": set([\"G\", \"&G\", \"?G\", \"#G\"]),\n",
    "         \"H\": set([\"H\", \"!H\", \"#H\", \"?H\"]),\n",
    "         \"I\": set([\"I\",\"&I\", \"!I\", \"*'I\"]),\n",
    "         \"J\": set([\"J\", \"?J\"])\n",
    "            }"
   ]
  },
  {
   "cell_type": "code",
   "execution_count": 159,
   "metadata": {},
   "outputs": [],
   "source": [
    "map_color = lambda x: next((k for k, v in Color.items() if x in v), x)\n",
    "data[\"Color\"] = data['color'].apply(map_color)"
   ]
  },
  {
   "cell_type": "markdown",
   "metadata": {},
   "source": [
    "Visualizar por color"
   ]
  },
  {
   "cell_type": "code",
   "execution_count": 160,
   "metadata": {},
   "outputs": [
    {
     "data": {
      "text/plain": [
       "<Axes: >"
      ]
     },
     "execution_count": 160,
     "metadata": {},
     "output_type": "execute_result"
    },
    {
     "data": {
      "image/png": "[encoded data removed]",
      "text/plain": [
       "<Figure size 640x480 with 1 Axes>"
      ]
     },
     "metadata": {},
     "output_type": "display_data"
    }
   ],
   "source": [
    "data[\"Color\"].hist()"
   ]
  },
  {
   "cell_type": "markdown",
   "metadata": {},
   "source": [
    "### *clarity*"
   ]
  },
  {
   "cell_type": "code",
   "execution_count": 161,
   "metadata": {},
   "outputs": [
    {
     "data": {
      "text/plain": [
       "array(['SI2', 'SI1', 'VS1', 'VS2', 'VVS2', 'VVS1', 'I1', 'IF', 'S?I1',\n",
       "       'SI!1', '&VS2', '&SI2', \"S*'I1\", 'VS?1', \"S*'I2\", '#VS1', 'V&S2',\n",
       "       'V!S2', '!VS2', 'VS#2', \"VVS*'2\", \"*'SI2\", 'VV?S1', 'S&I1',\n",
       "       \"*'SI1\", 'SI?1', 'VV#S1', 'V#S2', '#SI!1', 'S!I2'], dtype=object)"
      ]
     },
     "execution_count": 161,
     "metadata": {},
     "output_type": "execute_result"
    }
   ],
   "source": [
    "data[\"clarity\"].unique()"
   ]
  },
  {
   "cell_type": "code",
   "execution_count": 162,
   "metadata": {},
   "outputs": [],
   "source": [
    "Clarity = {\n",
    "    \"I1\": set([\"I1\"]), \n",
    "    \"SI2\": set([\"SI2\",\"&SI2\", \"S*'I2\", \"*'SI2\", \"S!I2\"]), \n",
    "    \"SI1\": set([\"SI1\", \"S?I1\", \"SI!1\", \"S*'I1\", \"S&I1\", \"*'SI1\", \"SI?1\", \"#SI!1\"]), \n",
    "    \"VS2\": set([\"VS2\", \"&VS2\", \"V&S2\", \"V!S2\", \"!VS2\", \"VS#2\", \"V#S2\"]), \n",
    "    \"VS1\": set([\"VS1\",\"VS?1\", \"#VS1\"]), \n",
    "    \"VVS2\": set([\"VVS2\",\"VVS*'2\"]), \n",
    "    \"VVS1\": set([\"VVS1\", \"VV?S1\", \"VV#S1\"]), \n",
    "    \"IF\": set([\"IF\"])}"
   ]
  },
  {
   "cell_type": "code",
   "execution_count": 163,
   "metadata": {},
   "outputs": [],
   "source": [
    "map_clarity = lambda x: next((k for k, v in Clarity.items() if x in v), x)\n",
    "data[\"Clarity\"] = data['clarity'].apply(map_clarity)"
   ]
  },
  {
   "cell_type": "code",
   "execution_count": 164,
   "metadata": {},
   "outputs": [
    {
     "data": {
      "text/plain": [
       "array(['SI2', 'SI1', 'VS1', 'VS2', 'VVS2', 'VVS1', 'I1', 'IF'],\n",
       "      dtype=object)"
      ]
     },
     "execution_count": 164,
     "metadata": {},
     "output_type": "execute_result"
    }
   ],
   "source": [
    "#data[\"Color\"].unique() #para corroborar que cada valor es ya unico\n",
    "data[\"Clarity\"].unique()\n"
   ]
  },
  {
   "cell_type": "code",
   "execution_count": 165,
   "metadata": {},
   "outputs": [
    {
     "data": {
      "text/plain": [
       "<Axes: >"
      ]
     },
     "execution_count": 165,
     "metadata": {},
     "output_type": "execute_result"
    },
    {
     "data": {
      "image/png": "[encoded data removed]",
      "text/plain": [
       "<Figure size 640x480 with 1 Axes>"
      ]
     },
     "metadata": {},
     "output_type": "display_data"
    }
   ],
   "source": [
    "\n",
    "data[\"Clarity\"].hist()"
   ]
  },
  {
   "cell_type": "code",
   "execution_count": 166,
   "metadata": {},
   "outputs": [
    {
     "data": {
      "text/html": [
       "<div>\n",
       "<style scoped>\n",
       "    .dataframe tbody tr th:only-of-type {\n",
       "        vertical-align: middle;\n",
       "    }\n",
       "\n",
       "    .dataframe tbody tr th {\n",
       "        vertical-align: top;\n",
       "    }\n",
       "\n",
       "    .dataframe thead th {\n",
       "        text-align: right;\n",
       "    }\n",
       "</style>\n",
       "<table border=\"1\" class=\"dataframe\">\n",
       "  <thead>\n",
       "    <tr style=\"text-align: right;\">\n",
       "      <th></th>\n",
       "      <th>carat</th>\n",
       "      <th>cut</th>\n",
       "      <th>color</th>\n",
       "      <th>clarity</th>\n",
       "      <th>depth</th>\n",
       "      <th>table</th>\n",
       "      <th>price</th>\n",
       "      <th>x</th>\n",
       "      <th>y</th>\n",
       "      <th>z</th>\n",
       "      <th>Cut</th>\n",
       "      <th>Color</th>\n",
       "      <th>Clarity</th>\n",
       "    </tr>\n",
       "  </thead>\n",
       "  <tbody>\n",
       "    <tr>\n",
       "      <th>0</th>\n",
       "      <td>0.23</td>\n",
       "      <td>Ideal</td>\n",
       "      <td>E</td>\n",
       "      <td>SI2</td>\n",
       "      <td>61.5</td>\n",
       "      <td>55.0</td>\n",
       "      <td>326</td>\n",
       "      <td>3.95</td>\n",
       "      <td>3.98</td>\n",
       "      <td>2.43</td>\n",
       "      <td>Ideal</td>\n",
       "      <td>E</td>\n",
       "      <td>SI2</td>\n",
       "    </tr>\n",
       "    <tr>\n",
       "      <th>1</th>\n",
       "      <td>0.21</td>\n",
       "      <td>Premium</td>\n",
       "      <td>E</td>\n",
       "      <td>SI1</td>\n",
       "      <td>59.8</td>\n",
       "      <td>61.0</td>\n",
       "      <td>326</td>\n",
       "      <td>3.89</td>\n",
       "      <td>3.84</td>\n",
       "      <td>2.31</td>\n",
       "      <td>Premium</td>\n",
       "      <td>E</td>\n",
       "      <td>SI1</td>\n",
       "    </tr>\n",
       "    <tr>\n",
       "      <th>2</th>\n",
       "      <td>0.23</td>\n",
       "      <td>Good</td>\n",
       "      <td>E</td>\n",
       "      <td>VS1</td>\n",
       "      <td>56.9</td>\n",
       "      <td>65.0</td>\n",
       "      <td>327</td>\n",
       "      <td>4.05</td>\n",
       "      <td>4.07</td>\n",
       "      <td>2.31</td>\n",
       "      <td>Good</td>\n",
       "      <td>E</td>\n",
       "      <td>VS1</td>\n",
       "    </tr>\n",
       "    <tr>\n",
       "      <th>3</th>\n",
       "      <td>0.29</td>\n",
       "      <td>Premium</td>\n",
       "      <td>I</td>\n",
       "      <td>VS2</td>\n",
       "      <td>62.4</td>\n",
       "      <td>58.0</td>\n",
       "      <td>334</td>\n",
       "      <td>4.20</td>\n",
       "      <td>4.23</td>\n",
       "      <td>2.63</td>\n",
       "      <td>Premium</td>\n",
       "      <td>I</td>\n",
       "      <td>VS2</td>\n",
       "    </tr>\n",
       "    <tr>\n",
       "      <th>4</th>\n",
       "      <td>0.31</td>\n",
       "      <td>Good</td>\n",
       "      <td>J</td>\n",
       "      <td>SI2</td>\n",
       "      <td>63.3</td>\n",
       "      <td>58.0</td>\n",
       "      <td>335</td>\n",
       "      <td>4.34</td>\n",
       "      <td>4.35</td>\n",
       "      <td>2.75</td>\n",
       "      <td>Good</td>\n",
       "      <td>J</td>\n",
       "      <td>SI2</td>\n",
       "    </tr>\n",
       "    <tr>\n",
       "      <th>...</th>\n",
       "      <td>...</td>\n",
       "      <td>...</td>\n",
       "      <td>...</td>\n",
       "      <td>...</td>\n",
       "      <td>...</td>\n",
       "      <td>...</td>\n",
       "      <td>...</td>\n",
       "      <td>...</td>\n",
       "      <td>...</td>\n",
       "      <td>...</td>\n",
       "      <td>...</td>\n",
       "      <td>...</td>\n",
       "      <td>...</td>\n",
       "    </tr>\n",
       "    <tr>\n",
       "      <th>53925</th>\n",
       "      <td>0.72</td>\n",
       "      <td>Ideal</td>\n",
       "      <td>D</td>\n",
       "      <td>SI1</td>\n",
       "      <td>60.8</td>\n",
       "      <td>57.0</td>\n",
       "      <td>2757</td>\n",
       "      <td>5.75</td>\n",
       "      <td>5.76</td>\n",
       "      <td>3.50</td>\n",
       "      <td>Ideal</td>\n",
       "      <td>D</td>\n",
       "      <td>SI1</td>\n",
       "    </tr>\n",
       "    <tr>\n",
       "      <th>53926</th>\n",
       "      <td>0.72</td>\n",
       "      <td>Good</td>\n",
       "      <td>D</td>\n",
       "      <td>SI1</td>\n",
       "      <td>63.1</td>\n",
       "      <td>55.0</td>\n",
       "      <td>2757</td>\n",
       "      <td>5.69</td>\n",
       "      <td>5.75</td>\n",
       "      <td>3.61</td>\n",
       "      <td>Good</td>\n",
       "      <td>D</td>\n",
       "      <td>SI1</td>\n",
       "    </tr>\n",
       "    <tr>\n",
       "      <th>53927</th>\n",
       "      <td>0.70</td>\n",
       "      <td>Very Good</td>\n",
       "      <td>D</td>\n",
       "      <td>SI1</td>\n",
       "      <td>62.8</td>\n",
       "      <td>60.0</td>\n",
       "      <td>2757</td>\n",
       "      <td>5.66</td>\n",
       "      <td>5.68</td>\n",
       "      <td>3.56</td>\n",
       "      <td>Very Good</td>\n",
       "      <td>D</td>\n",
       "      <td>SI1</td>\n",
       "    </tr>\n",
       "    <tr>\n",
       "      <th>53928</th>\n",
       "      <td>0.86</td>\n",
       "      <td>Premium</td>\n",
       "      <td>H</td>\n",
       "      <td>SI2</td>\n",
       "      <td>61.0</td>\n",
       "      <td>58.0</td>\n",
       "      <td>2757</td>\n",
       "      <td>6.15</td>\n",
       "      <td>6.12</td>\n",
       "      <td>3.74</td>\n",
       "      <td>Premium</td>\n",
       "      <td>H</td>\n",
       "      <td>SI2</td>\n",
       "    </tr>\n",
       "    <tr>\n",
       "      <th>53929</th>\n",
       "      <td>0.75</td>\n",
       "      <td>Ideal</td>\n",
       "      <td>D</td>\n",
       "      <td>SI2</td>\n",
       "      <td>NaN</td>\n",
       "      <td>55.0</td>\n",
       "      <td>2757</td>\n",
       "      <td>NaN</td>\n",
       "      <td>NaN</td>\n",
       "      <td>3.64</td>\n",
       "      <td>Ideal</td>\n",
       "      <td>D</td>\n",
       "      <td>SI2</td>\n",
       "    </tr>\n",
       "  </tbody>\n",
       "</table>\n",
       "<p>53930 rows × 13 columns</p>\n",
       "</div>"
      ],
      "text/plain": [
       "       carat        cut color clarity  depth  table  price     x     y     z  \\\n",
       "0       0.23      Ideal     E     SI2   61.5   55.0    326  3.95  3.98  2.43   \n",
       "1       0.21    Premium     E     SI1   59.8   61.0    326  3.89  3.84  2.31   \n",
       "2       0.23       Good     E     VS1   56.9   65.0    327  4.05  4.07  2.31   \n",
       "3       0.29    Premium     I     VS2   62.4   58.0    334  4.20  4.23  2.63   \n",
       "4       0.31       Good     J     SI2   63.3   58.0    335  4.34  4.35  2.75   \n",
       "...      ...        ...   ...     ...    ...    ...    ...   ...   ...   ...   \n",
       "53925   0.72      Ideal     D     SI1   60.8   57.0   2757  5.75  5.76  3.50   \n",
       "53926   0.72       Good     D     SI1   63.1   55.0   2757  5.69  5.75  3.61   \n",
       "53927   0.70  Very Good     D     SI1   62.8   60.0   2757  5.66  5.68  3.56   \n",
       "53928   0.86    Premium     H     SI2   61.0   58.0   2757  6.15  6.12  3.74   \n",
       "53929   0.75      Ideal     D     SI2    NaN   55.0   2757   NaN   NaN  3.64   \n",
       "\n",
       "             Cut Color Clarity  \n",
       "0          Ideal     E     SI2  \n",
       "1        Premium     E     SI1  \n",
       "2           Good     E     VS1  \n",
       "3        Premium     I     VS2  \n",
       "4           Good     J     SI2  \n",
       "...          ...   ...     ...  \n",
       "53925      Ideal     D     SI1  \n",
       "53926       Good     D     SI1  \n",
       "53927  Very Good     D     SI1  \n",
       "53928    Premium     H     SI2  \n",
       "53929      Ideal     D     SI2  \n",
       "\n",
       "[53930 rows x 13 columns]"
      ]
     },
     "execution_count": 166,
     "metadata": {},
     "output_type": "execute_result"
    }
   ],
   "source": [
    "data"
   ]
  },
  {
   "cell_type": "markdown",
   "metadata": {},
   "source": [
    "Tenemos variables cualitativas, pero es necesario convertirtas el variables cuantitativas, "
   ]
  },
  {
   "cell_type": "code",
   "execution_count": 167,
   "metadata": {},
   "outputs": [],
   "source": [
    "data_cut = data[\"Cut\"]\n",
    "\n",
    "data_cut.to_csv(\"Cut.csv\")"
   ]
  },
  {
   "cell_type": "markdown",
   "metadata": {},
   "source": [
    "### BETO for embedding\n",
    "Para realizar el embedding usaremos como primer alternativa el modelo de BETO, donde solo tendremos las primeras 2 columnas"
   ]
  },
  {
   "cell_type": "code",
   "execution_count": 168,
   "metadata": {},
   "outputs": [],
   "source": [
    "#import torch\n",
    "#import transformers as ppb"
   ]
  },
  {
   "cell_type": "code",
   "execution_count": 169,
   "metadata": {},
   "outputs": [],
   "source": [
    "#model_class = ppb.DistilBertModel\n",
    "#tokenizer_class = ppb.DistilBertTokenizer\n",
    "#pretrained_weights = 'dccuchile/bert-base-spanish-wwm-uncased'"
   ]
  },
  {
   "cell_type": "code",
   "execution_count": 170,
   "metadata": {},
   "outputs": [],
   "source": [
    "#tokenizer = tokenizer_class.from_pretrained(pretrained_weights)\n",
    "#model = model_class.from_pretrained(pretrained_weights)"
   ]
  },
  {
   "cell_type": "markdown",
   "metadata": {},
   "source": [
    "usaremos las 2 palabras (maximo) que describen el elemento"
   ]
  },
  {
   "cell_type": "code",
   "execution_count": 171,
   "metadata": {},
   "outputs": [],
   "source": [
    "#batch_1 = data[\"Cut\"]\n",
    "#tokenized = data[\"Cut\"].apply((lambda x: tokenizer.encode(x, add_special_tokens=True,truncation=True,max_length =7)))"
   ]
  },
  {
   "cell_type": "code",
   "execution_count": 172,
   "metadata": {},
   "outputs": [],
   "source": [
    "#max_len = 0\n",
    "#for i in tokenized.values:\n",
    "#    if len(i) > max_len:\n",
    "#        max_len = len(i)\n",
    "#\n",
    "#padded = np.array([i + [0]*(max_len-len(i)) for i in tokenized.values])"
   ]
  },
  {
   "cell_type": "code",
   "execution_count": 173,
   "metadata": {},
   "outputs": [],
   "source": [
    "#np.array(padded).shape"
   ]
  },
  {
   "cell_type": "markdown",
   "metadata": {},
   "source": [
    "Crear mascara de atencion"
   ]
  },
  {
   "cell_type": "code",
   "execution_count": 174,
   "metadata": {},
   "outputs": [],
   "source": [
    "#attention_mask = np.where(padded != 0, 1, 0)\n",
    "#attention_mask.shape"
   ]
  },
  {
   "cell_type": "markdown",
   "metadata": {},
   "source": [
    "Aplicamos el modelos de bert"
   ]
  },
  {
   "cell_type": "code",
   "execution_count": 175,
   "metadata": {},
   "outputs": [],
   "source": [
    "#input_ids = torch.tensor(padded)\n",
    "#attention_mask = torch.tensor(attention_mask)\n",
    "#\n",
    "#with torch.no_grad():\n",
    "#    last_hidden_states = model(input_ids, attention_mask=attention_mask)"
   ]
  },
  {
   "cell_type": "markdown",
   "metadata": {},
   "source": [
    "Usaremos unicamente la primer capa (correspodiente al token CLS)"
   ]
  },
  {
   "cell_type": "code",
   "execution_count": 176,
   "metadata": {},
   "outputs": [],
   "source": [
    "#features = last_hidden_states[0][:,0,:].numpy()"
   ]
  },
  {
   "cell_type": "markdown",
   "metadata": {},
   "source": [
    "Almacenamos estos resultados en un archivo .csv"
   ]
  },
  {
   "cell_type": "code",
   "execution_count": 177,
   "metadata": {},
   "outputs": [],
   "source": [
    "#features_df = pd.DataFrame(features)\n",
    "#features_df.to_csv('BERT_Cut.csv')"
   ]
  },
  {
   "cell_type": "code",
   "execution_count": 178,
   "metadata": {},
   "outputs": [],
   "source": [
    "#from sklearn.model_selection import train_test_split\n",
    "\n",
    "#from sklearn.decomposition import PCA\n",
    "\n",
    "#train_features, test_features, train_labels, test_labels = train_test_split(features, labels)\n",
    "#pca = PCA(n_components=2)\n",
    "#pca.fit(df)\n",
    "#datared=pca.transform(df)\n",
    "#\n",
    "#import plotly.express as px\n",
    "#fig = px.scatter(datared, x=0, y=1, color=tr_y)\n",
    "#fig.show()\n",
    "#"
   ]
  },
  {
   "cell_type": "markdown",
   "metadata": {},
   "source": [
    "### Embeding en base a una categoria"
   ]
  },
  {
   "cell_type": "markdown",
   "metadata": {},
   "source": [
    "Sabemos lo siguiente:\n",
    "* *colour*: diamond colour, from J (worst) to D (best)\n",
    "* *clarity*: a measurement of how clear the diamond is (I1 (worst), SI2, SI1, VS2, VS1, VVS2, VVS1, IF (best))\n",
    "* *cut:* quality of the cut (Fair, Good, Very Good, Premium, Ideal)"
   ]
  },
  {
   "cell_type": "code",
   "execution_count": 179,
   "metadata": {},
   "outputs": [],
   "source": [
    "#diccionario donde se describe el valor por el cual sera cambiado\n",
    "Color_cat   = {\"J\": 1,\"I\":2, \"H\":3, \"G\":4, \"F\":5, \"E\":6, \"D\":7}\n",
    "Clarity_cat ={\"I1\":1, \"SI2\":2, \"SI1\":3, \"VS2\":4, \"VS1\":5, \"VVS2\":6, \"VVS1\":7, \"IF\":8}\n",
    "Cut_cat     = {\"Fair\":1, \"Good\":2, \"Very Good\":3, \"Premium\":4, \"Ideal\":5}"
   ]
  },
  {
   "cell_type": "code",
   "execution_count": 180,
   "metadata": {},
   "outputs": [],
   "source": [
    "#realizar el cambio de palabra a numero\n",
    "data[\"Cut_num\"] = data['Cut'].map(Cut_cat)\n",
    "data[\"Clarity_num\"] = data['Clarity'].map(Clarity_cat)\n",
    "data[\"Color_num\"] = data['Color'].map(Color_cat)"
   ]
  },
  {
   "cell_type": "markdown",
   "metadata": {},
   "source": [
    "dataframe editado para las variables categoricas"
   ]
  },
  {
   "cell_type": "code",
   "execution_count": 181,
   "metadata": {},
   "outputs": [
    {
     "data": {
      "text/html": [
       "<div>\n",
       "<style scoped>\n",
       "    .dataframe tbody tr th:only-of-type {\n",
       "        vertical-align: middle;\n",
       "    }\n",
       "\n",
       "    .dataframe tbody tr th {\n",
       "        vertical-align: top;\n",
       "    }\n",
       "\n",
       "    .dataframe thead th {\n",
       "        text-align: right;\n",
       "    }\n",
       "</style>\n",
       "<table border=\"1\" class=\"dataframe\">\n",
       "  <thead>\n",
       "    <tr style=\"text-align: right;\">\n",
       "      <th></th>\n",
       "      <th>carat</th>\n",
       "      <th>depth</th>\n",
       "      <th>table</th>\n",
       "      <th>price</th>\n",
       "      <th>x</th>\n",
       "      <th>y</th>\n",
       "      <th>z</th>\n",
       "      <th>Cut_num</th>\n",
       "      <th>Clarity_num</th>\n",
       "      <th>Color_num</th>\n",
       "    </tr>\n",
       "  </thead>\n",
       "  <tbody>\n",
       "    <tr>\n",
       "      <th>0</th>\n",
       "      <td>0.23</td>\n",
       "      <td>61.5</td>\n",
       "      <td>55.0</td>\n",
       "      <td>326</td>\n",
       "      <td>3.95</td>\n",
       "      <td>3.98</td>\n",
       "      <td>2.43</td>\n",
       "      <td>5</td>\n",
       "      <td>2</td>\n",
       "      <td>6</td>\n",
       "    </tr>\n",
       "    <tr>\n",
       "      <th>1</th>\n",
       "      <td>0.21</td>\n",
       "      <td>59.8</td>\n",
       "      <td>61.0</td>\n",
       "      <td>326</td>\n",
       "      <td>3.89</td>\n",
       "      <td>3.84</td>\n",
       "      <td>2.31</td>\n",
       "      <td>4</td>\n",
       "      <td>3</td>\n",
       "      <td>6</td>\n",
       "    </tr>\n",
       "    <tr>\n",
       "      <th>2</th>\n",
       "      <td>0.23</td>\n",
       "      <td>56.9</td>\n",
       "      <td>65.0</td>\n",
       "      <td>327</td>\n",
       "      <td>4.05</td>\n",
       "      <td>4.07</td>\n",
       "      <td>2.31</td>\n",
       "      <td>2</td>\n",
       "      <td>5</td>\n",
       "      <td>6</td>\n",
       "    </tr>\n",
       "    <tr>\n",
       "      <th>3</th>\n",
       "      <td>0.29</td>\n",
       "      <td>62.4</td>\n",
       "      <td>58.0</td>\n",
       "      <td>334</td>\n",
       "      <td>4.20</td>\n",
       "      <td>4.23</td>\n",
       "      <td>2.63</td>\n",
       "      <td>4</td>\n",
       "      <td>4</td>\n",
       "      <td>2</td>\n",
       "    </tr>\n",
       "    <tr>\n",
       "      <th>4</th>\n",
       "      <td>0.31</td>\n",
       "      <td>63.3</td>\n",
       "      <td>58.0</td>\n",
       "      <td>335</td>\n",
       "      <td>4.34</td>\n",
       "      <td>4.35</td>\n",
       "      <td>2.75</td>\n",
       "      <td>2</td>\n",
       "      <td>2</td>\n",
       "      <td>1</td>\n",
       "    </tr>\n",
       "  </tbody>\n",
       "</table>\n",
       "</div>"
      ],
      "text/plain": [
       "   carat  depth  table  price     x     y     z  Cut_num  Clarity_num  \\\n",
       "0   0.23   61.5   55.0    326  3.95  3.98  2.43        5            2   \n",
       "1   0.21   59.8   61.0    326  3.89  3.84  2.31        4            3   \n",
       "2   0.23   56.9   65.0    327  4.05  4.07  2.31        2            5   \n",
       "3   0.29   62.4   58.0    334  4.20  4.23  2.63        4            4   \n",
       "4   0.31   63.3   58.0    335  4.34  4.35  2.75        2            2   \n",
       "\n",
       "   Color_num  \n",
       "0          6  \n",
       "1          6  \n",
       "2          6  \n",
       "3          2  \n",
       "4          1  "
      ]
     },
     "execution_count": 181,
     "metadata": {},
     "output_type": "execute_result"
    }
   ],
   "source": [
    "df =  data[[\"carat\", \"depth\", \"table\", \"price\", \"x\", \"y\", \"z\", \"Cut_num\", \"Clarity_num\", \"Color_num\"]]\n",
    "df.head(5)"
   ]
  },
  {
   "cell_type": "markdown",
   "metadata": {},
   "source": [
    "## Valores faltantes\n"
   ]
  },
  {
   "cell_type": "markdown",
   "metadata": {},
   "source": [
    "¿Que columnas contienen valores faltantes?"
   ]
  },
  {
   "cell_type": "code",
   "execution_count": 182,
   "metadata": {},
   "outputs": [
    {
     "data": {
      "text/plain": [
       "carat             0\n",
       "depth          2962\n",
       "table             0\n",
       "price             0\n",
       "x              1090\n",
       "y               585\n",
       "z                 0\n",
       "Cut_num           0\n",
       "Clarity_num       0\n",
       "Color_num         0\n",
       "dtype: int64"
      ]
     },
     "execution_count": 182,
     "metadata": {},
     "output_type": "execute_result"
    }
   ],
   "source": [
    "#df = data\n",
    "#df[df.isnull().any(axis=1)]\n",
    "missing_count = df.isnull().sum()\n",
    "missing_count"
   ]
  },
  {
   "cell_type": "markdown",
   "metadata": {},
   "source": [
    "Como se ven la cantidad de registros faltantes?"
   ]
  },
  {
   "cell_type": "code",
   "execution_count": 183,
   "metadata": {},
   "outputs": [
    {
     "data": {
      "image/png": "[encoded data removed]",
      "text/plain": [
       "<Figure size 640x480 with 1 Axes>"
      ]
     },
     "metadata": {},
     "output_type": "display_data"
    }
   ],
   "source": [
    "missing_count = missing_count[missing_count > 0]\n",
    "\n",
    "# Crear un histograma de las columnas con valores faltantes\n",
    "missing_count.plot(kind='bar')\n",
    "plt.xlabel('Columnas')\n",
    "plt.ylabel('Número de valores faltantes')\n",
    "plt.title('Histograma de valores faltantes por columna')\n",
    "plt.show()"
   ]
  },
  {
   "cell_type": "markdown",
   "metadata": {},
   "source": [
    "¿Cuantos registros completos se tienen?"
   ]
  },
  {
   "cell_type": "code",
   "execution_count": 184,
   "metadata": {},
   "outputs": [
    {
     "data": {
      "text/plain": [
       "(50968, 10)"
      ]
     },
     "execution_count": 184,
     "metadata": {},
     "output_type": "execute_result"
    }
   ],
   "source": [
    "df_clean =  df.dropna()\n",
    "df_clean.shape\n",
    "#respuesta: 50968"
   ]
  },
  {
   "cell_type": "code",
   "execution_count": 185,
   "metadata": {},
   "outputs": [
    {
     "name": "stdout",
     "output_type": "stream",
     "text": [
      "Existen 2962 registros con al menos un valor faltante\n"
     ]
    }
   ],
   "source": [
    "##registros con al menos un valor nulo\n",
    "print(\"Existen {} registros con al menos un valor faltante\".format(data.shape[0] - df_clean.shape[0]))\n",
    "#Por complemento, tenemos 2962 registros con al menos un valor nulo."
   ]
  },
  {
   "cell_type": "markdown",
   "metadata": {},
   "source": [
    "**Hipotesis** Los valores de *depth* satisfacen la siguiente ecuacion: $\\frac{z}{mean(x, y)}$"
   ]
  },
  {
   "cell_type": "code",
   "execution_count": 186,
   "metadata": {},
   "outputs": [
    {
     "name": "stderr",
     "output_type": "stream",
     "text": [
      "C:\\Users\\pedro\\AppData\\Local\\Temp\\ipykernel_13932\\3322390280.py:3: SettingWithCopyWarning: \n",
      "A value is trying to be set on a copy of a slice from a DataFrame.\n",
      "Try using .loc[row_indexer,col_indexer] = value instead\n",
      "\n",
      "See the caveats in the documentation: https://pandas.pydata.org/pandas-docs/stable/user_guide/indexing.html#returning-a-view-versus-a-copy\n",
      "  df_clean[\"depth_prop\"] = depth_prop\n"
     ]
    }
   ],
   "source": [
    "#se programa esto con el df_clean\n",
    "depth_prop = round(df_clean[\"z\"] / df_clean.loc[:, ['x', 'y']].mean(axis=1)*100, 1)\n",
    "df_clean[\"depth_prop\"] = depth_prop"
   ]
  },
  {
   "cell_type": "markdown",
   "metadata": {},
   "source": [
    "¿Cuantos valores cumplen exactamente esta ecuacion?"
   ]
  },
  {
   "cell_type": "code",
   "execution_count": 187,
   "metadata": {},
   "outputs": [
    {
     "data": {
      "text/plain": [
       "92.95636477789986"
      ]
     },
     "execution_count": 187,
     "metadata": {},
     "output_type": "execute_result"
    }
   ],
   "source": [
    "df_clean.shape[0] - (df_clean[\"depth\"] != df_clean[\"depth_prop\"]).sum()\n",
    "#respuesta: 47378 (92.95%) del total de 50968\n",
    "47378*100/50968 #% de valores que si coinciden"
   ]
  },
  {
   "cell_type": "markdown",
   "metadata": {},
   "source": [
    "¿Que pasa con los valores restantes?"
   ]
  },
  {
   "cell_type": "code",
   "execution_count": 188,
   "metadata": {},
   "outputs": [
    {
     "data": {
      "image/png": "[encoded data removed]",
      "text/plain": [
       "<Figure size 640x480 with 1 Axes>"
      ]
     },
     "metadata": {},
     "output_type": "display_data"
    }
   ],
   "source": [
    "diferencias = df_clean[\"depth\"] - df_clean[\"depth_prop\"]\n",
    "\n",
    "# Filtrar las diferencias que no son cero\n",
    "diferencias_no_cero = diferencias[diferencias != 0]\n",
    "abs_diff = [abs(val) for val in diferencias_no_cero]\n",
    "# Graficar el histograma de las diferencias\n",
    "plt.hist(abs_diff, edgecolor='black')\n",
    "plt.xlabel('Diferencia entre deeph y depth_prop')\n",
    "plt.ylabel('Frecuencia')\n",
    "plt.title('Distribución de las diferencias entre deeph y depth_prop')\n",
    "plt.show()"
   ]
  },
  {
   "cell_type": "markdown",
   "metadata": {},
   "source": [
    "Y en % de diferencias con respecto al valor absoluto, como se ve esto?"
   ]
  },
  {
   "cell_type": "code",
   "execution_count": 189,
   "metadata": {},
   "outputs": [
    {
     "name": "stdout",
     "output_type": "stream",
     "text": [
      "Elementos en el intervalo [0,1): 3480\n",
      "Elementos en el intervalo [1,10): 59\n",
      "Elementos en el intervalo [11,100): 30\n",
      "Elementos en el intervalo [100,10000): 5\n"
     ]
    }
   ],
   "source": [
    "array_np = np.array(abs_diff)\n",
    "\n",
    "bordes = [0, 1, 10, 100, 10000]\n",
    "\n",
    "# Contamos cuántos elementos están en cada intervalo\n",
    "conteos, _ = np.histogram(array_np, bins=bordes)\n",
    "\n",
    "print(\"Elementos en el intervalo [0,1):\", conteos[0])\n",
    "print(\"Elementos en el intervalo [1,10):\", conteos[1])\n",
    "print(\"Elementos en el intervalo [11,100):\", conteos[2])\n",
    "print(\"Elementos en el intervalo [100,10000):\", conteos[3])"
   ]
  },
  {
   "cell_type": "code",
   "execution_count": 190,
   "metadata": {},
   "outputs": [
    {
     "data": {
      "text/plain": [
       "0.009810076911002982"
      ]
     },
     "execution_count": 190,
     "metadata": {},
     "output_type": "execute_result"
    }
   ],
   "source": [
    "5*100/50968 #% de valores que si coinciden"
   ]
  },
  {
   "cell_type": "markdown",
   "metadata": {},
   "source": [
    "**Conclusion**\n",
    "\n",
    "Esta hipotesis de la formula la aceptaremos como valida. De esta manera podremos hacer el primer inputacion de los datos que si tienen *x,y,z* pero no *depth*"
   ]
  },
  {
   "cell_type": "markdown",
   "metadata": {},
   "source": [
    "### Eliminar registros que difieren de 1 entre depth y depth_propuesta"
   ]
  },
  {
   "cell_type": "code",
   "execution_count": 191,
   "metadata": {},
   "outputs": [],
   "source": [
    "df_filtrado = df_clean[abs(df_clean['depth'] - df_clean['depth_prop']) <= 1]"
   ]
  },
  {
   "cell_type": "markdown",
   "metadata": {},
   "source": [
    "¿Cuantos registros tiene este nuevo dataframe?"
   ]
  },
  {
   "cell_type": "code",
   "execution_count": 192,
   "metadata": {},
   "outputs": [
    {
     "data": {
      "text/plain": [
       "50868"
      ]
     },
     "execution_count": 192,
     "metadata": {},
     "output_type": "execute_result"
    }
   ],
   "source": [
    "df_filtrado.shape[0]\n",
    "#respuesta, 50868"
   ]
  },
  {
   "cell_type": "markdown",
   "metadata": {},
   "source": [
    "## Inputacion"
   ]
  },
  {
   "cell_type": "markdown",
   "metadata": {},
   "source": [
    "De los 2,962 registros con al menos un valor, se investigaran aquellos casos donde la informacion faltante este en 1,2 o los 3 columnas.\n",
    "Aclaracion, se hizo cada una de las busquedas, hasta llegar unicamente a los registros que se describen a continuacion "
   ]
  },
  {
   "cell_type": "markdown",
   "metadata": {},
   "source": [
    "### Caso I (Falta unicamente depth)\n",
    "\n",
    "Primer input para la columna *depth*"
   ]
  },
  {
   "cell_type": "code",
   "execution_count": 193,
   "metadata": {},
   "outputs": [],
   "source": [
    "df_missing_depth = df[df['depth'].isna() & ~df['x'].isna() & ~df['y'].isna() & ~df['z'].isna()]"
   ]
  },
  {
   "cell_type": "markdown",
   "metadata": {},
   "source": [
    "¿Cuantos registros puedo inputar  con este primer metodo?"
   ]
  },
  {
   "cell_type": "code",
   "execution_count": 194,
   "metadata": {},
   "outputs": [
    {
     "data": {
      "text/plain": [
       "1872"
      ]
     },
     "execution_count": 194,
     "metadata": {},
     "output_type": "execute_result"
    }
   ],
   "source": [
    "df_missing_depth.shape[0]\n",
    "#respuesta: 1872"
   ]
  },
  {
   "cell_type": "markdown",
   "metadata": {},
   "source": [
    "¿Que % representa del total de registros con al menos un valor nulo?"
   ]
  },
  {
   "cell_type": "code",
   "execution_count": 195,
   "metadata": {},
   "outputs": [
    {
     "data": {
      "text/plain": [
       "63.20054017555706"
      ]
     },
     "execution_count": 195,
     "metadata": {},
     "output_type": "execute_result"
    }
   ],
   "source": [
    "1872*100/2962 \n",
    "#respuesta: 63%"
   ]
  },
  {
   "cell_type": "markdown",
   "metadata": {},
   "source": [
    "Realizar la imputacion de los datos"
   ]
  },
  {
   "cell_type": "code",
   "execution_count": 196,
   "metadata": {},
   "outputs": [
    {
     "name": "stderr",
     "output_type": "stream",
     "text": [
      "C:\\Users\\pedro\\AppData\\Local\\Temp\\ipykernel_13932\\3046040852.py:2: SettingWithCopyWarning: \n",
      "A value is trying to be set on a copy of a slice from a DataFrame.\n",
      "Try using .loc[row_indexer,col_indexer] = value instead\n",
      "\n",
      "See the caveats in the documentation: https://pandas.pydata.org/pandas-docs/stable/user_guide/indexing.html#returning-a-view-versus-a-copy\n",
      "  df_missing_depth[\"depth\"] = depth_input\n"
     ]
    }
   ],
   "source": [
    "depth_input = round(df_missing_depth[\"z\"] / df_missing_depth.loc[:, ['x', 'y']].mean(axis=1)*100, 1)\n",
    "df_missing_depth[\"depth\"] = depth_input"
   ]
  },
  {
   "cell_type": "markdown",
   "metadata": {},
   "source": [
    "¿Cuantos datos me faltan por realizar una inputacion de valores?"
   ]
  },
  {
   "cell_type": "markdown",
   "metadata": {},
   "source": [
    "Gracias al primer metodo, tenemos  una recuperacion del 63.2% de datos faltantes\n",
    "Los 1872 datos faltantes representan el 26.8% de los datos faltantes, pero solo el 3.4 % de la muestra total  (53,930)"
   ]
  },
  {
   "cell_type": "markdown",
   "metadata": {},
   "source": [
    "### Caso V (Falta *x* y *depth*)"
   ]
  },
  {
   "cell_type": "code",
   "execution_count": 197,
   "metadata": {},
   "outputs": [
    {
     "name": "stdout",
     "output_type": "stream",
     "text": [
      "505\n"
     ]
    },
    {
     "data": {
      "text/html": [
       "<div>\n",
       "<style scoped>\n",
       "    .dataframe tbody tr th:only-of-type {\n",
       "        vertical-align: middle;\n",
       "    }\n",
       "\n",
       "    .dataframe tbody tr th {\n",
       "        vertical-align: top;\n",
       "    }\n",
       "\n",
       "    .dataframe thead th {\n",
       "        text-align: right;\n",
       "    }\n",
       "</style>\n",
       "<table border=\"1\" class=\"dataframe\">\n",
       "  <thead>\n",
       "    <tr style=\"text-align: right;\">\n",
       "      <th></th>\n",
       "      <th>carat</th>\n",
       "      <th>depth</th>\n",
       "      <th>table</th>\n",
       "      <th>price</th>\n",
       "      <th>x</th>\n",
       "      <th>y</th>\n",
       "      <th>z</th>\n",
       "      <th>Cut_num</th>\n",
       "      <th>Clarity_num</th>\n",
       "      <th>Color_num</th>\n",
       "    </tr>\n",
       "  </thead>\n",
       "  <tbody>\n",
       "    <tr>\n",
       "      <th>188</th>\n",
       "      <td>0.71</td>\n",
       "      <td>NaN</td>\n",
       "      <td>57.0</td>\n",
       "      <td>2777</td>\n",
       "      <td>NaN</td>\n",
       "      <td>5.69</td>\n",
       "      <td>3.56</td>\n",
       "      <td>3</td>\n",
       "      <td>4</td>\n",
       "      <td>5</td>\n",
       "    </tr>\n",
       "    <tr>\n",
       "      <th>302</th>\n",
       "      <td>0.82</td>\n",
       "      <td>NaN</td>\n",
       "      <td>54.0</td>\n",
       "      <td>2799</td>\n",
       "      <td>NaN</td>\n",
       "      <td>6.02</td>\n",
       "      <td>3.74</td>\n",
       "      <td>5</td>\n",
       "      <td>2</td>\n",
       "      <td>5</td>\n",
       "    </tr>\n",
       "    <tr>\n",
       "      <th>372</th>\n",
       "      <td>0.73</td>\n",
       "      <td>NaN</td>\n",
       "      <td>57.0</td>\n",
       "      <td>2808</td>\n",
       "      <td>NaN</td>\n",
       "      <td>5.70</td>\n",
       "      <td>3.61</td>\n",
       "      <td>3</td>\n",
       "      <td>3</td>\n",
       "      <td>7</td>\n",
       "    </tr>\n",
       "    <tr>\n",
       "      <th>509</th>\n",
       "      <td>0.70</td>\n",
       "      <td>NaN</td>\n",
       "      <td>54.0</td>\n",
       "      <td>2822</td>\n",
       "      <td>NaN</td>\n",
       "      <td>5.71</td>\n",
       "      <td>3.52</td>\n",
       "      <td>5</td>\n",
       "      <td>3</td>\n",
       "      <td>7</td>\n",
       "    </tr>\n",
       "    <tr>\n",
       "      <th>538</th>\n",
       "      <td>0.79</td>\n",
       "      <td>NaN</td>\n",
       "      <td>58.0</td>\n",
       "      <td>2827</td>\n",
       "      <td>NaN</td>\n",
       "      <td>5.90</td>\n",
       "      <td>3.71</td>\n",
       "      <td>4</td>\n",
       "      <td>6</td>\n",
       "      <td>3</td>\n",
       "    </tr>\n",
       "  </tbody>\n",
       "</table>\n",
       "</div>"
      ],
      "text/plain": [
       "     carat  depth  table  price   x     y     z  Cut_num  Clarity_num  \\\n",
       "188   0.71    NaN   57.0   2777 NaN  5.69  3.56        3            4   \n",
       "302   0.82    NaN   54.0   2799 NaN  6.02  3.74        5            2   \n",
       "372   0.73    NaN   57.0   2808 NaN  5.70  3.61        3            3   \n",
       "509   0.70    NaN   54.0   2822 NaN  5.71  3.52        5            3   \n",
       "538   0.79    NaN   58.0   2827 NaN  5.90  3.71        4            6   \n",
       "\n",
       "     Color_num  \n",
       "188          5  \n",
       "302          5  \n",
       "372          7  \n",
       "509          7  \n",
       "538          3  "
      ]
     },
     "execution_count": 197,
     "metadata": {},
     "output_type": "execute_result"
    }
   ],
   "source": [
    "df_missing_depth_x = df[df['depth'].isna() & df['x'].isna() & ~df['y'].isna() & df['depth'].isna()]\n",
    "\n",
    "print(df_missing_depth_x.shape[0])\n",
    "df_missing_depth_x.head()"
   ]
  },
  {
   "cell_type": "markdown",
   "metadata": {},
   "source": [
    "¿Como hacer la imputacion? Como $depth =\\frac{z}{mean(x, y)}$, y si conocemos *z, y*, solo es encesario imputar estadisticamente el valor de *x*. Esto lo haremos a travez de imputacion de la media, sobre los *k* vecinos mas cercanos"
   ]
  },
  {
   "cell_type": "code",
   "execution_count": 198,
   "metadata": {},
   "outputs": [],
   "source": [
    "df_filtrado = df_filtrado.drop(columns=['depth_prop']) #eliminamos la columna auxiliar\n",
    "df_complet = pd.concat([df_filtrado, df_missing_depth]) \n",
    "df_pre_imput = pd.concat([df_complet,df_missing_depth_x])"
   ]
  },
  {
   "cell_type": "markdown",
   "metadata": {},
   "source": [
    "¿Que valor de K es mejor?"
   ]
  },
  {
   "cell_type": "markdown",
   "metadata": {},
   "source": [
    "Para esto es importante estandarizar los datos primero"
   ]
  },
  {
   "cell_type": "code",
   "execution_count": 199,
   "metadata": {},
   "outputs": [
    {
     "data": {
      "image/png": "[encoded data removed]",
      "text/plain": [
       "<Figure size 640x480 with 1 Axes>"
      ]
     },
     "metadata": {},
     "output_type": "display_data"
    }
   ],
   "source": [
    "n_clusters_range = range(1, 11)  # Probamos con 1 a 10 clusters\n",
    "inertia_values = []\n",
    "scaler = StandardScaler()\n",
    "scaled_features = scaler.fit_transform(df_pre_imput.drop(columns=['x',\"depth\" ]))\n",
    "\n",
    "for n_clusters in n_clusters_range:\n",
    "    kmeans = KMeans(n_clusters=n_clusters)\n",
    "    kmeans.fit(scaled_features)\n",
    "    inertia_values.append(kmeans.inertia_)\n",
    "\n",
    "# Graficamos la suma de las distancias cuadradas intra-cluster en función del número de clusters\n",
    "plt.plot(n_clusters_range, inertia_values, marker='o')\n",
    "plt.xlabel('Número de Clusters')\n",
    "plt.ylabel('Suma de las distancias cuadradas intra-cluster')\n",
    "plt.title('Método del Codo para determinar el número óptimo de clusters')\n",
    "plt.xticks(n_clusters_range)\n",
    "plt.grid(True)\n",
    "plt.show()"
   ]
  },
  {
   "cell_type": "markdown",
   "metadata": {},
   "source": [
    "Seleccionamos k=5"
   ]
  },
  {
   "cell_type": "code",
   "execution_count": 200,
   "metadata": {},
   "outputs": [],
   "source": [
    "scaler = StandardScaler()\n",
    "scaled_features = scaler.fit_transform(df_pre_imput.drop(columns=['x',\"depth\" ]))\n",
    "kmeans = KMeans(n_clusters=5, random_state=0)\n",
    "df_pre_imput['cluster'] = kmeans.fit_predict(scaled_features)"
   ]
  },
  {
   "cell_type": "markdown",
   "metadata": {},
   "source": [
    "Calculo de la media de x por grupo"
   ]
  },
  {
   "cell_type": "code",
   "execution_count": 201,
   "metadata": {},
   "outputs": [],
   "source": [
    "cluster_means = df_pre_imput.groupby('cluster')['x'].mean()\n",
    "df_pre_imput['x_imputed'] = df_pre_imput.apply(lambda row: cluster_means[row['cluster']] if np.isnan(row['x']) else row['x'],axis=1)"
   ]
  },
  {
   "cell_type": "markdown",
   "metadata": {},
   "source": [
    "obtenemos unicamente los registros alos que se les aplicara la imputacion"
   ]
  },
  {
   "cell_type": "code",
   "execution_count": 211,
   "metadata": {},
   "outputs": [
    {
     "data": {
      "text/html": [
       "<div>\n",
       "<style scoped>\n",
       "    .dataframe tbody tr th:only-of-type {\n",
       "        vertical-align: middle;\n",
       "    }\n",
       "\n",
       "    .dataframe tbody tr th {\n",
       "        vertical-align: top;\n",
       "    }\n",
       "\n",
       "    .dataframe thead th {\n",
       "        text-align: right;\n",
       "    }\n",
       "</style>\n",
       "<table border=\"1\" class=\"dataframe\">\n",
       "  <thead>\n",
       "    <tr style=\"text-align: right;\">\n",
       "      <th></th>\n",
       "      <th>carat</th>\n",
       "      <th>depth</th>\n",
       "      <th>table</th>\n",
       "      <th>price</th>\n",
       "      <th>x</th>\n",
       "      <th>y</th>\n",
       "      <th>z</th>\n",
       "      <th>Cut_num</th>\n",
       "      <th>Clarity_num</th>\n",
       "      <th>Color_num</th>\n",
       "      <th>cluster</th>\n",
       "      <th>x_imputed</th>\n",
       "    </tr>\n",
       "  </thead>\n",
       "  <tbody>\n",
       "    <tr>\n",
       "      <th>188</th>\n",
       "      <td>0.71</td>\n",
       "      <td>NaN</td>\n",
       "      <td>57.0</td>\n",
       "      <td>2777</td>\n",
       "      <td>6.208395</td>\n",
       "      <td>5.69</td>\n",
       "      <td>3.56</td>\n",
       "      <td>3</td>\n",
       "      <td>4</td>\n",
       "      <td>5</td>\n",
       "      <td>0</td>\n",
       "      <td>6.208395</td>\n",
       "    </tr>\n",
       "    <tr>\n",
       "      <th>302</th>\n",
       "      <td>0.82</td>\n",
       "      <td>NaN</td>\n",
       "      <td>54.0</td>\n",
       "      <td>2799</td>\n",
       "      <td>6.475409</td>\n",
       "      <td>6.02</td>\n",
       "      <td>3.74</td>\n",
       "      <td>5</td>\n",
       "      <td>2</td>\n",
       "      <td>5</td>\n",
       "      <td>2</td>\n",
       "      <td>6.475409</td>\n",
       "    </tr>\n",
       "    <tr>\n",
       "      <th>372</th>\n",
       "      <td>0.73</td>\n",
       "      <td>NaN</td>\n",
       "      <td>57.0</td>\n",
       "      <td>2808</td>\n",
       "      <td>6.208395</td>\n",
       "      <td>5.70</td>\n",
       "      <td>3.61</td>\n",
       "      <td>3</td>\n",
       "      <td>3</td>\n",
       "      <td>7</td>\n",
       "      <td>0</td>\n",
       "      <td>6.208395</td>\n",
       "    </tr>\n",
       "    <tr>\n",
       "      <th>509</th>\n",
       "      <td>0.70</td>\n",
       "      <td>NaN</td>\n",
       "      <td>54.0</td>\n",
       "      <td>2822</td>\n",
       "      <td>4.815557</td>\n",
       "      <td>5.71</td>\n",
       "      <td>3.52</td>\n",
       "      <td>5</td>\n",
       "      <td>3</td>\n",
       "      <td>7</td>\n",
       "      <td>4</td>\n",
       "      <td>4.815557</td>\n",
       "    </tr>\n",
       "    <tr>\n",
       "      <th>538</th>\n",
       "      <td>0.79</td>\n",
       "      <td>NaN</td>\n",
       "      <td>58.0</td>\n",
       "      <td>2827</td>\n",
       "      <td>6.475409</td>\n",
       "      <td>5.90</td>\n",
       "      <td>3.71</td>\n",
       "      <td>4</td>\n",
       "      <td>6</td>\n",
       "      <td>3</td>\n",
       "      <td>2</td>\n",
       "      <td>6.475409</td>\n",
       "    </tr>\n",
       "  </tbody>\n",
       "</table>\n",
       "</div>"
      ],
      "text/plain": [
       "     carat  depth  table  price         x     y     z  Cut_num  Clarity_num  \\\n",
       "188   0.71    NaN   57.0   2777  6.208395  5.69  3.56        3            4   \n",
       "302   0.82    NaN   54.0   2799  6.475409  6.02  3.74        5            2   \n",
       "372   0.73    NaN   57.0   2808  6.208395  5.70  3.61        3            3   \n",
       "509   0.70    NaN   54.0   2822  4.815557  5.71  3.52        5            3   \n",
       "538   0.79    NaN   58.0   2827  6.475409  5.90  3.71        4            6   \n",
       "\n",
       "     Color_num  cluster  x_imputed  \n",
       "188          5        0   6.208395  \n",
       "302          5        2   6.475409  \n",
       "372          7        0   6.208395  \n",
       "509          7        4   4.815557  \n",
       "538          3        2   6.475409  "
      ]
     },
     "execution_count": 211,
     "metadata": {},
     "output_type": "execute_result"
    }
   ],
   "source": [
    "df_imput = df_pre_imput[df_pre_imput.isna().any(axis=1)]\n",
    "df_imput.head()"
   ]
  },
  {
   "cell_type": "markdown",
   "metadata": {},
   "source": [
    "realizamos la immputacion"
   ]
  },
  {
   "cell_type": "code",
   "execution_count": 212,
   "metadata": {},
   "outputs": [
    {
     "name": "stderr",
     "output_type": "stream",
     "text": [
      "C:\\Users\\pedro\\AppData\\Local\\Temp\\ipykernel_13932\\658228079.py:2: SettingWithCopyWarning: \n",
      "A value is trying to be set on a copy of a slice from a DataFrame.\n",
      "Try using .loc[row_indexer,col_indexer] = value instead\n",
      "\n",
      "See the caveats in the documentation: https://pandas.pydata.org/pandas-docs/stable/user_guide/indexing.html#returning-a-view-versus-a-copy\n",
      "  df_imput['x_imputed'] = df_imput.apply(lambda row: cluster_means[row['cluster']] if np.isnan(row['x']) else row['x'],axis=1)\n"
     ]
    }
   ],
   "source": [
    "cluster_means = df_imput.groupby('cluster')['x'].mean()\n",
    "df_imput['x_imputed'] = df_imput.apply(lambda row: cluster_means[row['cluster']] if np.isnan(row['x']) else row['x'],axis=1)"
   ]
  },
  {
   "cell_type": "markdown",
   "metadata": {},
   "source": [
    "eliminamos la columna auxiliar"
   ]
  },
  {
   "cell_type": "code",
   "execution_count": 221,
   "metadata": {},
   "outputs": [
    {
     "name": "stderr",
     "output_type": "stream",
     "text": [
      "C:\\Users\\pedro\\AppData\\Local\\Temp\\ipykernel_13932\\3441698076.py:1: SettingWithCopyWarning: \n",
      "A value is trying to be set on a copy of a slice from a DataFrame.\n",
      "Try using .loc[row_indexer,col_indexer] = value instead\n",
      "\n",
      "See the caveats in the documentation: https://pandas.pydata.org/pandas-docs/stable/user_guide/indexing.html#returning-a-view-versus-a-copy\n",
      "  df_imput['x'] = df_imput['x'].fillna(df_imput['x_imputed'])\n",
      "C:\\Users\\pedro\\AppData\\Local\\Temp\\ipykernel_13932\\3441698076.py:2: SettingWithCopyWarning: \n",
      "A value is trying to be set on a copy of a slice from a DataFrame\n",
      "\n",
      "See the caveats in the documentation: https://pandas.pydata.org/pandas-docs/stable/user_guide/indexing.html#returning-a-view-versus-a-copy\n",
      "  df_imput.drop(columns=['x_imputed'], inplace=True)\n"
     ]
    }
   ],
   "source": [
    "df_imput['x'] = df_imput['x'].fillna(df_imput['x_imputed'])\n",
    "df_imput.drop(columns=['x_imputed'], inplace=True)"
   ]
  },
  {
   "cell_type": "markdown",
   "metadata": {},
   "source": [
    "Ahora realizamos la imputacion de depth"
   ]
  },
  {
   "cell_type": "code",
   "execution_count": 222,
   "metadata": {},
   "outputs": [
    {
     "name": "stderr",
     "output_type": "stream",
     "text": [
      "C:\\Users\\pedro\\AppData\\Local\\Temp\\ipykernel_13932\\819147829.py:2: SettingWithCopyWarning: \n",
      "A value is trying to be set on a copy of a slice from a DataFrame.\n",
      "Try using .loc[row_indexer,col_indexer] = value instead\n",
      "\n",
      "See the caveats in the documentation: https://pandas.pydata.org/pandas-docs/stable/user_guide/indexing.html#returning-a-view-versus-a-copy\n",
      "  df_imput[\"depth\"] = depth_input\n"
     ]
    },
    {
     "data": {
      "text/html": [
       "<div>\n",
       "<style scoped>\n",
       "    .dataframe tbody tr th:only-of-type {\n",
       "        vertical-align: middle;\n",
       "    }\n",
       "\n",
       "    .dataframe tbody tr th {\n",
       "        vertical-align: top;\n",
       "    }\n",
       "\n",
       "    .dataframe thead th {\n",
       "        text-align: right;\n",
       "    }\n",
       "</style>\n",
       "<table border=\"1\" class=\"dataframe\">\n",
       "  <thead>\n",
       "    <tr style=\"text-align: right;\">\n",
       "      <th></th>\n",
       "      <th>carat</th>\n",
       "      <th>depth</th>\n",
       "      <th>table</th>\n",
       "      <th>price</th>\n",
       "      <th>x</th>\n",
       "      <th>y</th>\n",
       "      <th>z</th>\n",
       "      <th>Cut_num</th>\n",
       "      <th>Clarity_num</th>\n",
       "      <th>Color_num</th>\n",
       "      <th>cluster</th>\n",
       "    </tr>\n",
       "  </thead>\n",
       "  <tbody>\n",
       "    <tr>\n",
       "      <th>188</th>\n",
       "      <td>0.71</td>\n",
       "      <td>59.8</td>\n",
       "      <td>57.0</td>\n",
       "      <td>2777</td>\n",
       "      <td>6.208395</td>\n",
       "      <td>5.69</td>\n",
       "      <td>3.56</td>\n",
       "      <td>3</td>\n",
       "      <td>4</td>\n",
       "      <td>5</td>\n",
       "      <td>0</td>\n",
       "    </tr>\n",
       "    <tr>\n",
       "      <th>302</th>\n",
       "      <td>0.82</td>\n",
       "      <td>59.9</td>\n",
       "      <td>54.0</td>\n",
       "      <td>2799</td>\n",
       "      <td>6.475409</td>\n",
       "      <td>6.02</td>\n",
       "      <td>3.74</td>\n",
       "      <td>5</td>\n",
       "      <td>2</td>\n",
       "      <td>5</td>\n",
       "      <td>2</td>\n",
       "    </tr>\n",
       "    <tr>\n",
       "      <th>372</th>\n",
       "      <td>0.73</td>\n",
       "      <td>60.6</td>\n",
       "      <td>57.0</td>\n",
       "      <td>2808</td>\n",
       "      <td>6.208395</td>\n",
       "      <td>5.70</td>\n",
       "      <td>3.61</td>\n",
       "      <td>3</td>\n",
       "      <td>3</td>\n",
       "      <td>7</td>\n",
       "      <td>0</td>\n",
       "    </tr>\n",
       "    <tr>\n",
       "      <th>509</th>\n",
       "      <td>0.70</td>\n",
       "      <td>66.9</td>\n",
       "      <td>54.0</td>\n",
       "      <td>2822</td>\n",
       "      <td>4.815557</td>\n",
       "      <td>5.71</td>\n",
       "      <td>3.52</td>\n",
       "      <td>5</td>\n",
       "      <td>3</td>\n",
       "      <td>7</td>\n",
       "      <td>4</td>\n",
       "    </tr>\n",
       "    <tr>\n",
       "      <th>538</th>\n",
       "      <td>0.79</td>\n",
       "      <td>60.0</td>\n",
       "      <td>58.0</td>\n",
       "      <td>2827</td>\n",
       "      <td>6.475409</td>\n",
       "      <td>5.90</td>\n",
       "      <td>3.71</td>\n",
       "      <td>4</td>\n",
       "      <td>6</td>\n",
       "      <td>3</td>\n",
       "      <td>2</td>\n",
       "    </tr>\n",
       "  </tbody>\n",
       "</table>\n",
       "</div>"
      ],
      "text/plain": [
       "     carat  depth  table  price         x     y     z  Cut_num  Clarity_num  \\\n",
       "188   0.71   59.8   57.0   2777  6.208395  5.69  3.56        3            4   \n",
       "302   0.82   59.9   54.0   2799  6.475409  6.02  3.74        5            2   \n",
       "372   0.73   60.6   57.0   2808  6.208395  5.70  3.61        3            3   \n",
       "509   0.70   66.9   54.0   2822  4.815557  5.71  3.52        5            3   \n",
       "538   0.79   60.0   58.0   2827  6.475409  5.90  3.71        4            6   \n",
       "\n",
       "     Color_num  cluster  \n",
       "188          5        0  \n",
       "302          5        2  \n",
       "372          7        0  \n",
       "509          7        4  \n",
       "538          3        2  "
      ]
     },
     "execution_count": 222,
     "metadata": {},
     "output_type": "execute_result"
    }
   ],
   "source": [
    "\n",
    "depth_input = round(df_imput[\"z\"] / df_imput.loc[:, ['x', 'y']].mean(axis=1)*100, 1)\n",
    "df_imput[\"depth\"] = depth_input\n",
    "df_imput.head()"
   ]
  },
  {
   "cell_type": "markdown",
   "metadata": {},
   "source": [
    "Agregamos esto al conjunto de datos ya completos"
   ]
  },
  {
   "cell_type": "code",
   "execution_count": 229,
   "metadata": {},
   "outputs": [
    {
     "data": {
      "text/plain": [
       "50868"
      ]
     },
     "execution_count": 229,
     "metadata": {},
     "output_type": "execute_result"
    }
   ],
   "source": [
    "df_filtrado.shape[0]  #datos completos"
   ]
  },
  {
   "cell_type": "code",
   "execution_count": 228,
   "metadata": {},
   "outputs": [
    {
     "data": {
      "text/plain": [
       "1872"
      ]
     },
     "execution_count": 228,
     "metadata": {},
     "output_type": "execute_result"
    }
   ],
   "source": [
    "df_missing_depth.shape[0] ##caso I"
   ]
  },
  {
   "cell_type": "code",
   "execution_count": 231,
   "metadata": {},
   "outputs": [
    {
     "data": {
      "text/plain": [
       "505"
      ]
     },
     "execution_count": 231,
     "metadata": {},
     "output_type": "execute_result"
    }
   ],
   "source": [
    "df_imput.shape[0] #faltan x e depth"
   ]
  },
  {
   "cell_type": "markdown",
   "metadata": {},
   "source": [
    "### Caso VII (Taltan las 3)"
   ]
  },
  {
   "cell_type": "markdown",
   "metadata": {},
   "source": [
    "Podriamos aplicar el proceso similar par imputar *y*y *x*"
   ]
  },
  {
   "cell_type": "code",
   "execution_count": 232,
   "metadata": {},
   "outputs": [
    {
     "data": {
      "text/plain": [
       "1.0847394770999443"
      ]
     },
     "execution_count": 232,
     "metadata": {},
     "output_type": "execute_result"
    }
   ],
   "source": [
    "585*100/53930"
   ]
  },
  {
   "cell_type": "code",
   "execution_count": 207,
   "metadata": {},
   "outputs": [
    {
     "data": {
      "text/html": [
       "<div>\n",
       "<style scoped>\n",
       "    .dataframe tbody tr th:only-of-type {\n",
       "        vertical-align: middle;\n",
       "    }\n",
       "\n",
       "    .dataframe tbody tr th {\n",
       "        vertical-align: top;\n",
       "    }\n",
       "\n",
       "    .dataframe thead th {\n",
       "        text-align: right;\n",
       "    }\n",
       "</style>\n",
       "<table border=\"1\" class=\"dataframe\">\n",
       "  <thead>\n",
       "    <tr style=\"text-align: right;\">\n",
       "      <th></th>\n",
       "      <th>carat</th>\n",
       "      <th>depth</th>\n",
       "      <th>table</th>\n",
       "      <th>price</th>\n",
       "      <th>x</th>\n",
       "      <th>y</th>\n",
       "      <th>z</th>\n",
       "      <th>Cut_num</th>\n",
       "      <th>Clarity_num</th>\n",
       "      <th>Color_num</th>\n",
       "    </tr>\n",
       "  </thead>\n",
       "  <tbody>\n",
       "    <tr>\n",
       "      <th>73</th>\n",
       "      <td>0.30</td>\n",
       "      <td>NaN</td>\n",
       "      <td>57.0</td>\n",
       "      <td>554</td>\n",
       "      <td>NaN</td>\n",
       "      <td>NaN</td>\n",
       "      <td>2.67</td>\n",
       "      <td>4</td>\n",
       "      <td>3</td>\n",
       "      <td>3</td>\n",
       "    </tr>\n",
       "    <tr>\n",
       "      <th>345</th>\n",
       "      <td>0.70</td>\n",
       "      <td>NaN</td>\n",
       "      <td>58.0</td>\n",
       "      <td>2804</td>\n",
       "      <td>NaN</td>\n",
       "      <td>NaN</td>\n",
       "      <td>3.56</td>\n",
       "      <td>3</td>\n",
       "      <td>3</td>\n",
       "      <td>7</td>\n",
       "    </tr>\n",
       "    <tr>\n",
       "      <th>544</th>\n",
       "      <td>0.80</td>\n",
       "      <td>NaN</td>\n",
       "      <td>54.0</td>\n",
       "      <td>2829</td>\n",
       "      <td>NaN</td>\n",
       "      <td>NaN</td>\n",
       "      <td>3.75</td>\n",
       "      <td>2</td>\n",
       "      <td>2</td>\n",
       "      <td>6</td>\n",
       "    </tr>\n",
       "    <tr>\n",
       "      <th>553</th>\n",
       "      <td>0.53</td>\n",
       "      <td>NaN</td>\n",
       "      <td>57.0</td>\n",
       "      <td>2830</td>\n",
       "      <td>NaN</td>\n",
       "      <td>NaN</td>\n",
       "      <td>3.20</td>\n",
       "      <td>5</td>\n",
       "      <td>7</td>\n",
       "      <td>5</td>\n",
       "    </tr>\n",
       "    <tr>\n",
       "      <th>592</th>\n",
       "      <td>0.70</td>\n",
       "      <td>NaN</td>\n",
       "      <td>56.0</td>\n",
       "      <td>2837</td>\n",
       "      <td>NaN</td>\n",
       "      <td>NaN</td>\n",
       "      <td>3.53</td>\n",
       "      <td>5</td>\n",
       "      <td>5</td>\n",
       "      <td>6</td>\n",
       "    </tr>\n",
       "    <tr>\n",
       "      <th>...</th>\n",
       "      <td>...</td>\n",
       "      <td>...</td>\n",
       "      <td>...</td>\n",
       "      <td>...</td>\n",
       "      <td>...</td>\n",
       "      <td>...</td>\n",
       "      <td>...</td>\n",
       "      <td>...</td>\n",
       "      <td>...</td>\n",
       "      <td>...</td>\n",
       "    </tr>\n",
       "    <tr>\n",
       "      <th>53611</th>\n",
       "      <td>0.35</td>\n",
       "      <td>NaN</td>\n",
       "      <td>60.0</td>\n",
       "      <td>552</td>\n",
       "      <td>NaN</td>\n",
       "      <td>NaN</td>\n",
       "      <td>2.78</td>\n",
       "      <td>4</td>\n",
       "      <td>5</td>\n",
       "      <td>2</td>\n",
       "    </tr>\n",
       "    <tr>\n",
       "      <th>53690</th>\n",
       "      <td>0.70</td>\n",
       "      <td>NaN</td>\n",
       "      <td>56.0</td>\n",
       "      <td>2717</td>\n",
       "      <td>NaN</td>\n",
       "      <td>NaN</td>\n",
       "      <td>3.51</td>\n",
       "      <td>5</td>\n",
       "      <td>4</td>\n",
       "      <td>5</td>\n",
       "    </tr>\n",
       "    <tr>\n",
       "      <th>53719</th>\n",
       "      <td>0.57</td>\n",
       "      <td>NaN</td>\n",
       "      <td>56.0</td>\n",
       "      <td>2722</td>\n",
       "      <td>NaN</td>\n",
       "      <td>NaN</td>\n",
       "      <td>3.25</td>\n",
       "      <td>5</td>\n",
       "      <td>6</td>\n",
       "      <td>5</td>\n",
       "    </tr>\n",
       "    <tr>\n",
       "      <th>53904</th>\n",
       "      <td>0.84</td>\n",
       "      <td>NaN</td>\n",
       "      <td>59.0</td>\n",
       "      <td>2753</td>\n",
       "      <td>NaN</td>\n",
       "      <td>NaN</td>\n",
       "      <td>3.77</td>\n",
       "      <td>2</td>\n",
       "      <td>5</td>\n",
       "      <td>2</td>\n",
       "    </tr>\n",
       "    <tr>\n",
       "      <th>53929</th>\n",
       "      <td>0.75</td>\n",
       "      <td>NaN</td>\n",
       "      <td>55.0</td>\n",
       "      <td>2757</td>\n",
       "      <td>NaN</td>\n",
       "      <td>NaN</td>\n",
       "      <td>3.64</td>\n",
       "      <td>5</td>\n",
       "      <td>2</td>\n",
       "      <td>7</td>\n",
       "    </tr>\n",
       "  </tbody>\n",
       "</table>\n",
       "<p>585 rows × 10 columns</p>\n",
       "</div>"
      ],
      "text/plain": [
       "       carat  depth  table  price   x   y     z  Cut_num  Clarity_num  \\\n",
       "73      0.30    NaN   57.0    554 NaN NaN  2.67        4            3   \n",
       "345     0.70    NaN   58.0   2804 NaN NaN  3.56        3            3   \n",
       "544     0.80    NaN   54.0   2829 NaN NaN  3.75        2            2   \n",
       "553     0.53    NaN   57.0   2830 NaN NaN  3.20        5            7   \n",
       "592     0.70    NaN   56.0   2837 NaN NaN  3.53        5            5   \n",
       "...      ...    ...    ...    ...  ..  ..   ...      ...          ...   \n",
       "53611   0.35    NaN   60.0    552 NaN NaN  2.78        4            5   \n",
       "53690   0.70    NaN   56.0   2717 NaN NaN  3.51        5            4   \n",
       "53719   0.57    NaN   56.0   2722 NaN NaN  3.25        5            6   \n",
       "53904   0.84    NaN   59.0   2753 NaN NaN  3.77        2            5   \n",
       "53929   0.75    NaN   55.0   2757 NaN NaN  3.64        5            2   \n",
       "\n",
       "       Color_num  \n",
       "73             3  \n",
       "345            7  \n",
       "544            6  \n",
       "553            5  \n",
       "592            6  \n",
       "...          ...  \n",
       "53611          2  \n",
       "53690          5  \n",
       "53719          5  \n",
       "53904          2  \n",
       "53929          7  \n",
       "\n",
       "[585 rows x 10 columns]"
      ]
     },
     "execution_count": 207,
     "metadata": {},
     "output_type": "execute_result"
    }
   ],
   "source": [
    "registros_con_valores_faltantes_y_z_depth = df[df['x'].isna() & df['y'].isna() & df['depth'].isna()]\n",
    "registros_con_valores_faltantes_y_z_depth"
   ]
  },
  {
   "cell_type": "code",
   "execution_count": 208,
   "metadata": {},
   "outputs": [
    {
     "data": {
      "text/plain": [
       "19.75016880486158"
      ]
     },
     "execution_count": 208,
     "metadata": {},
     "output_type": "execute_result"
    }
   ],
   "source": [
    "585*100/2962"
   ]
  },
  {
   "cell_type": "code",
   "execution_count": 209,
   "metadata": {},
   "outputs": [
    {
     "data": {
      "text/plain": [
       "2962"
      ]
     },
     "execution_count": 209,
     "metadata": {},
     "output_type": "execute_result"
    }
   ],
   "source": [
    "585+505+1872"
   ]
  }
 ],
 "metadata": {
  "kernelspec": {
   "display_name": "diamonds",
   "language": "python",
   "name": "python3"
  },
  "language_info": {
   "codemirror_mode": {
    "name": "ipython",
    "version": 3
   },
   "file_extension": ".py",
   "mimetype": "text/x-python",
   "name": "python",
   "nbconvert_exporter": "python",
   "pygments_lexer": "ipython3",
   "version": "3.9.19"
  }
 },
 "nbformat": 4,
 "nbformat_minor": 2
}
